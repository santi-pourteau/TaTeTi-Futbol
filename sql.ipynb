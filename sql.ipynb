{
 "cells": [
  {
   "cell_type": "code",
   "execution_count": 2,
   "metadata": {},
   "outputs": [],
   "source": [
    "import pandas as pd\n",
    "import sqlite3\n",
    "\n",
    "# Leer el archivo de Excel\n",
    "df = pd.read_excel('player_data.xlsx')\n",
    "\n",
    "# Conectarse a la base de datos (si no existe, se creará automáticamente)\n",
    "conn = sqlite3.connect('basedatos.db')\n",
    "\n",
    "# Guardar el DataFrame en la base de datos como una tabla llamada \"datos\"\n",
    "df.to_sql('datos', conn, if_exists='replace', index=False)\n",
    "\n",
    "# Cerrar la conexión\n",
    "conn.close()"
   ]
  },
  {
   "cell_type": "code",
   "execution_count": 4,
   "metadata": {},
   "outputs": [
    {
     "name": "stdout",
     "output_type": "stream",
     "text": [
      "(\"['River Plate', 'Racing Club', 'Argentions Juniors', 'Tigre', 'Colon de Santa Fe', 'Lanus', 'Banfield', 'Aldosivi']\",)\n"
     ]
    }
   ],
   "source": [
    "import sqlite3\n",
    "\n",
    "# Conectarse a la base de datos\n",
    "conn = sqlite3.connect('basedatos.db')\n",
    "\n",
    "# Crear un cursor para ejecutar comandos SQL\n",
    "cursor = conn.cursor()\n",
    "\n",
    "valor_buscado = 'José Sand'\n",
    "\n",
    "# Ejecutar una consulta SQL con cláusula WHERE y LIKE\n",
    "\n",
    "#jugadores que jugaron en un club\n",
    "#cursor.execute(\"SELECT Player FROM datos WHERE Equipo LIKE ?\", ('%{}%'.format(valor_buscado),))\n",
    "\n",
    "#clubes donde jugo el jugador\n",
    "#cursor.execute(\"SELECT Equipo FROM datos WHERE Player LIKE ?\", ('%{}%'.format(valor_buscado),))\n",
    "\n",
    "\n",
    "# Obtener los resultados de la consulta\n",
    "resultados = cursor.fetchall()\n",
    "\n",
    "# Recorrer los resultados\n",
    "for fila in resultados:\n",
    "    print(fila)\n",
    "\n",
    "# Cerrar la conexión\n",
    "conn.close()"
   ]
  }
 ],
 "metadata": {
  "kernelspec": {
   "display_name": "Python 3",
   "language": "python",
   "name": "python3"
  },
  "language_info": {
   "codemirror_mode": {
    "name": "ipython",
    "version": 3
   },
   "file_extension": ".py",
   "mimetype": "text/x-python",
   "name": "python",
   "nbconvert_exporter": "python",
   "pygments_lexer": "ipython3",
   "version": "3.10.6"
  },
  "orig_nbformat": 4
 },
 "nbformat": 4,
 "nbformat_minor": 2
}
